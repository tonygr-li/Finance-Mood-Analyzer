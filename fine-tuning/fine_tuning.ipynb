{
 "cells": [
  {
   "cell_type": "code",
   "execution_count": 14,
   "id": "a759bb3d",
   "metadata": {},
   "outputs": [],
   "source": [
    "import cohere\n",
    "import nltk\n",
    "from cohere import ClassifyExample\n",
    "from nltk.tokenize import sent_tokenize\n",
    "\n",
    "\n"
   ]
  },
  {
   "cell_type": "code",
   "execution_count": 15,
   "id": "d53d8184",
   "metadata": {},
   "outputs": [],
   "source": [
    "# Initialize Cohere client with your API key\n",
    "api_key = ''\n",
    "co = cohere.Client(api_key)\n"
   ]
  },
  {
   "cell_type": "code",
   "execution_count": 32,
   "id": "78baaf15",
   "metadata": {},
   "outputs": [],
   "source": [
    "# Example text\n",
    "text = \"\"\"\n",
    "The FTSE 100 fell slightly in early trade on Monday before bounding to a two-week high, alongside European stocks. Meanwhile, the US market was mixed as caution sets in following a week of profit taking for big tech stocks like Nvidia. US traders are looking to key inflation data later in the week.\n",
    "\n",
    "    The FTSE 100 (^FTSE) was down 0.1% after the opening bell before trading around 0.7% higher by mid-afternoon. The DAX (^GDAXI) rose 1% and the CAC (^FCHI) was up 1.2%.\n",
    "\n",
    "    The pan-European STOXX 600 (^STOXX) was up 0.5%.\n",
    "\n",
    "    Across the pond, the S&P 500 (^GSPC) was up 0.3%, having fallen earlier. The Dow (^DJI) was up 1% and the Nasdaq (^IXIC) dipped 0.2%.\n",
    "\n",
    "    Traders in the US are looking to Friday morning, which will bring investors the May reading on the Personal Consumption Expenditures (PCE) price index, the Fed's preferred inflation measure, which should show prices on a \"core\" basis – which excludes food and energy – rose 0.1% last month. This would mark the slowest monthly rise since last November.\n",
    "\n",
    "    New data from the UK on Monday shows salaries for jobs advertised in the UK fell in May for the first time since October. Adzuna's calculations reveal the average salary on an advertised vacancy is down 0.1% since last month, now standing at £38,765.\n",
    "\n",
    "    On an annual basis, salaries were 2.69% higher than in May 2023, following the rise in the National Living Wage to £11.44 per hour at the start of April.\n",
    "\n",
    "    Wage inflation has been a sticking point for policymakers in the Bank of England, as they grapple with when to lower interest rates.\n",
    "\n",
    "    Polling by Ipsos for the French election showed over the weekend that France's far right National Rally (RN) party and its allies are ahead, leading with with 35.5% of the vote. The first round of voting is set to take place on 30 June.\n",
    "\"\"\"\n",
    "\n",
    "# Sentence tokenization\n",
    "nltk.download('punkt')\n",
    "sentences = sent_tokenize(text)\n",
    "\n"
   ]
  },
  {
   "cell_type": "code",
   "execution_count": 33,
   "id": "cacb9540",
   "metadata": {},
   "outputs": [
    {
     "name": "stdout",
     "output_type": "stream",
     "text": [
      "The confidence levels of the labels are: [ClassifyResponseClassificationsItem(id='76edccda-5fbf-4987-aa0a-8754b929eca9', input='the ftse 100 fell slightly in early trade on monday before bounding to a two - week high, alongside european stocks.', prediction='negative', predictions=['negative'], confidence=0.7313715, confidences=[0.7313715], labels={'negative': ClassifyResponseClassificationsItemLabelsValue(confidence=0.7313715), 'neutral': ClassifyResponseClassificationsItemLabelsValue(confidence=0.21895514), 'positive': ClassifyResponseClassificationsItemLabelsValue(confidence=0.049673345)}, classification_type='single-label')]\n",
      "The confidence levels of the labels are: [ClassifyResponseClassificationsItem(id='76b4d117-e0e1-490d-af6c-eeb26e9e3502', input='meanwhile, the us market was mixed as caution sets in following a week of profit taking for big tech stocks like nvidia.', prediction='negative', predictions=['negative'], confidence=0.5845276, confidences=[0.5845276], labels={'negative': ClassifyResponseClassificationsItemLabelsValue(confidence=0.5845276), 'neutral': ClassifyResponseClassificationsItemLabelsValue(confidence=0.41207057), 'positive': ClassifyResponseClassificationsItemLabelsValue(confidence=0.0034018506)}, classification_type='single-label')]\n",
      "The confidence levels of the labels are: [ClassifyResponseClassificationsItem(id='ce2175ce-b3fe-4f14-b9ce-b7408e3d8f4f', input='us traders are looking to key inflation data later in the week.', prediction='neutral', predictions=['neutral'], confidence=0.99848074, confidences=[0.99848074], labels={'negative': ClassifyResponseClassificationsItemLabelsValue(confidence=0.00034558552), 'neutral': ClassifyResponseClassificationsItemLabelsValue(confidence=0.99848074), 'positive': ClassifyResponseClassificationsItemLabelsValue(confidence=0.0011736765)}, classification_type='single-label')]\n",
      "The confidence levels of the labels are: [ClassifyResponseClassificationsItem(id='73a22db2-5661-4150-add0-1013415145d1', input='the ftse 100 ( ^ ftse ) was down 0. 1 % after the opening bell before trading around 0. 7 % higher by mid - afternoon.', prediction='negative', predictions=['negative'], confidence=0.80645573, confidences=[0.80645573], labels={'negative': ClassifyResponseClassificationsItemLabelsValue(confidence=0.80645573), 'neutral': ClassifyResponseClassificationsItemLabelsValue(confidence=0.15331471), 'positive': ClassifyResponseClassificationsItemLabelsValue(confidence=0.040229563)}, classification_type='single-label')]\n",
      "The confidence levels of the labels are: [ClassifyResponseClassificationsItem(id='e819bcf0-dc4b-4844-bb70-02ce0de52975', input='the dax ( ^ gdaxi ) rose 1 % and the cac ( ^ fchi ) was up 1. 2 %.', prediction='positive', predictions=['positive'], confidence=0.98682284, confidences=[0.98682284], labels={'negative': ClassifyResponseClassificationsItemLabelsValue(confidence=5.663464e-05), 'neutral': ClassifyResponseClassificationsItemLabelsValue(confidence=0.013120528), 'positive': ClassifyResponseClassificationsItemLabelsValue(confidence=0.98682284)}, classification_type='single-label')]\n",
      "The confidence levels of the labels are: [ClassifyResponseClassificationsItem(id='e4267e82-2dbb-421c-a07d-ae09f4dff3f2', input='the pan - european stoxx 600 ( ^ stoxx ) was up 0. 5 %.', prediction='positive', predictions=['positive'], confidence=0.9843911, confidences=[0.9843911], labels={'negative': ClassifyResponseClassificationsItemLabelsValue(confidence=6.630795e-05), 'neutral': ClassifyResponseClassificationsItemLabelsValue(confidence=0.015542617), 'positive': ClassifyResponseClassificationsItemLabelsValue(confidence=0.9843911)}, classification_type='single-label')]\n",
      "The confidence levels of the labels are: [ClassifyResponseClassificationsItem(id='89f2d34b-a1d2-4623-968e-4289beaa2114', input='across the pond, the s & p 500 ( ^ gspc ) was up 0. 3 %, having fallen earlier.', prediction='positive', predictions=['positive'], confidence=0.99138343, confidences=[0.99138343], labels={'negative': ClassifyResponseClassificationsItemLabelsValue(confidence=0.00015587341), 'neutral': ClassifyResponseClassificationsItemLabelsValue(confidence=0.00846068), 'positive': ClassifyResponseClassificationsItemLabelsValue(confidence=0.99138343)}, classification_type='single-label')]\n",
      "The confidence levels of the labels are: [ClassifyResponseClassificationsItem(id='414ae5df-06f1-4add-96cf-6c701336aa2a', input='the dow ( ^ dji ) was up 1 % and the nasdaq ( ^ ixic ) dipped 0. 2 %.', prediction='positive', predictions=['positive'], confidence=0.6918388, confidences=[0.6918388], labels={'negative': ClassifyResponseClassificationsItemLabelsValue(confidence=0.011765062), 'neutral': ClassifyResponseClassificationsItemLabelsValue(confidence=0.2963961), 'positive': ClassifyResponseClassificationsItemLabelsValue(confidence=0.6918388)}, classification_type='single-label')]\n",
      "The confidence levels of the labels are: [ClassifyResponseClassificationsItem(id='138787e0-4f3f-46cd-86f6-3c5ba52df777', input='traders in the us are looking to friday morning, which will bring investors the may reading on the personal consumption expenditures ( pce ) price index, the fed \\' s preferred inflation measure, which should show prices on a \" core \" basis – which excludes food and energy – rose 0. 1 % last month.', prediction='positive', predictions=['positive'], confidence=0.8570515, confidences=[0.8570515], labels={'negative': ClassifyResponseClassificationsItemLabelsValue(confidence=0.00027920783), 'neutral': ClassifyResponseClassificationsItemLabelsValue(confidence=0.14266929), 'positive': ClassifyResponseClassificationsItemLabelsValue(confidence=0.8570515)}, classification_type='single-label')]\n",
      "The confidence levels of the labels are: [ClassifyResponseClassificationsItem(id='a8610f81-f638-4bc0-bed5-318eaeb37e87', input='this would mark the slowest monthly rise since last november.', prediction='negative', predictions=['negative'], confidence=0.98682064, confidences=[0.98682064], labels={'negative': ClassifyResponseClassificationsItemLabelsValue(confidence=0.98682064), 'neutral': ClassifyResponseClassificationsItemLabelsValue(confidence=0.011975551), 'positive': ClassifyResponseClassificationsItemLabelsValue(confidence=0.0012038249)}, classification_type='single-label')]\n",
      "The confidence levels of the labels are: [ClassifyResponseClassificationsItem(id='9c426eaa-84ef-4f48-b6d5-4231b6d3fc41', input='new data from the uk on monday shows salaries for jobs advertised in the uk fell in may for the first time since october.', prediction='negative', predictions=['negative'], confidence=0.99713564, confidences=[0.99713564], labels={'negative': ClassifyResponseClassificationsItemLabelsValue(confidence=0.99713564), 'neutral': ClassifyResponseClassificationsItemLabelsValue(confidence=0.00243571), 'positive': ClassifyResponseClassificationsItemLabelsValue(confidence=0.00042867067)}, classification_type='single-label')]\n",
      "The confidence levels of the labels are: [ClassifyResponseClassificationsItem(id='8467837a-bb81-454d-8c43-3cdd6dcaf867', input=\"adzuna ' s calculations reveal the average salary on an advertised vacancy is down 0. 1 % since last month, now standing at £38, 765.\", prediction='negative', predictions=['negative'], confidence=0.9873733, confidences=[0.9873733], labels={'negative': ClassifyResponseClassificationsItemLabelsValue(confidence=0.9873733), 'neutral': ClassifyResponseClassificationsItemLabelsValue(confidence=0.011790732), 'positive': ClassifyResponseClassificationsItemLabelsValue(confidence=0.0008359633)}, classification_type='single-label')]\n",
      "The confidence levels of the labels are: [ClassifyResponseClassificationsItem(id='98c6bfa8-2c7c-4707-bc5b-998a4f489bb3', input='on an annual basis, salaries were 2. 69 % higher than in may 2023, following the rise in the national living wage to £11. 44 per hour at the start of april.', prediction='positive', predictions=['positive'], confidence=0.9984046, confidences=[0.9984046], labels={'negative': ClassifyResponseClassificationsItemLabelsValue(confidence=6.171381e-05), 'neutral': ClassifyResponseClassificationsItemLabelsValue(confidence=0.0015336386), 'positive': ClassifyResponseClassificationsItemLabelsValue(confidence=0.9984046)}, classification_type='single-label')]\n"
     ]
    },
    {
     "name": "stdout",
     "output_type": "stream",
     "text": [
      "The confidence levels of the labels are: [ClassifyResponseClassificationsItem(id='7f7f2d44-628c-46a9-bb8e-bea76781a894', input='wage inflation has been a sticking point for policymakers in the bank of england, as they grapple with when to lower interest rates.', prediction='negative', predictions=['negative'], confidence=0.9483844, confidences=[0.9483844], labels={'negative': ClassifyResponseClassificationsItemLabelsValue(confidence=0.9483844), 'neutral': ClassifyResponseClassificationsItemLabelsValue(confidence=0.050115492), 'positive': ClassifyResponseClassificationsItemLabelsValue(confidence=0.0015001141)}, classification_type='single-label')]\n",
      "The confidence levels of the labels are: [ClassifyResponseClassificationsItem(id='6dc4211d-be2b-492a-bff3-390962b5160e', input=\"polling by ipsos for the french election showed over the weekend that france ' s far right national rally ( rn ) party and its allies are ahead, leading with with 35. 5 % of the vote.\", prediction='positive', predictions=['positive'], confidence=0.93774915, confidences=[0.93774915], labels={'negative': ClassifyResponseClassificationsItemLabelsValue(confidence=0.00027870224), 'neutral': ClassifyResponseClassificationsItemLabelsValue(confidence=0.06197218), 'positive': ClassifyResponseClassificationsItemLabelsValue(confidence=0.93774915)}, classification_type='single-label')]\n",
      "The confidence levels of the labels are: [ClassifyResponseClassificationsItem(id='de4a56e1-b972-49ab-b497-342c6f356b2d', input='the first round of voting is set to take place on 30 june.', prediction='neutral', predictions=['neutral'], confidence=0.9990252, confidences=[0.9990252], labels={'negative': ClassifyResponseClassificationsItemLabelsValue(confidence=0.00030041364), 'neutral': ClassifyResponseClassificationsItemLabelsValue(confidence=0.9990252), 'positive': ClassifyResponseClassificationsItemLabelsValue(confidence=0.0006743532)}, classification_type='single-label')]\n"
     ]
    }
   ],
   "source": [
    "# Function to get sentiment from Cohere\n",
    "def get_sentiment_from_cohere(sentence):\n",
    "    response = co.classify(\n",
    "        model='', #fine tuned model\n",
    "        #inputs=[\"This item was broken when it arrived\", \"This item broke after 3 weeks\"],\n",
    "        inputs=[sentence]\n",
    "\n",
    "    )\n",
    "    print('The confidence levels of the labels are: {}'.format(response.classifications))\n",
    "    return response.classifications[0]\n",
    "\n",
    "#     response = co.classify(\n",
    "#         model='large',\n",
    "#         inputs=[sentence],\n",
    "#         examples=[\n",
    "#             cohere.classify.Example(\"The company reported a great quarter.\", \"positive\"),\n",
    "#             cohere.classify.Example(\"The future outlook is bleak.\", \"negative\"),\n",
    "#             cohere.classify.Example(\"The company's revenue is stable.\", \"neutral\"),\n",
    "#         ]\n",
    "#     )\n",
    "#     return response.classifications[0].prediction\n",
    "\n",
    "# Analyze sentiment for each sentence using Cohere\n",
    "sentence_sentiments = [get_sentiment_from_cohere(sentence) for sentence in sentences]\n",
    "\n"
   ]
  },
  {
   "cell_type": "code",
   "execution_count": 29,
   "id": "9e09ccbc",
   "metadata": {},
   "outputs": [
    {
     "name": "stdout",
     "output_type": "stream",
     "text": [
      "<class 'list'>\n",
      "<class 'list'>\n",
      "<class 'cohere.types.classify_response_classifications_item.ClassifyResponseClassificationsItem'>\n",
      "company x reported a significant increase in revenue.\n",
      "positive\n",
      "0.99685234\n",
      "[[ClassifyResponseClassificationsItem(id='8f47cf25-43e2-45b9-8c1d-e4d9fc744152', input='company x reported a significant increase in revenue.', prediction='positive', predictions=['positive'], confidence=0.99685234, confidences=[0.99685234], labels={'negative': ClassifyResponseClassificationsItemLabelsValue(confidence=3.9319984e-05), 'neutral': ClassifyResponseClassificationsItemLabelsValue(confidence=0.0031083587), 'positive': ClassifyResponseClassificationsItemLabelsValue(confidence=0.99685234)}, classification_type='single-label')], [ClassifyResponseClassificationsItem(id='f5ed2917-35b9-4aa7-8beb-744f78498ce4', input='however, their future outlook remains uncertain.', prediction='neutral', predictions=['neutral'], confidence=0.95973, confidences=[0.95973], labels={'negative': ClassifyResponseClassificationsItemLabelsValue(confidence=0.038347192), 'neutral': ClassifyResponseClassificationsItemLabelsValue(confidence=0.95973), 'positive': ClassifyResponseClassificationsItemLabelsValue(confidence=0.0019227596)}, classification_type='single-label')]]\n"
     ]
    }
   ],
   "source": [
    "print(type(sentence_sentiments))\n",
    "print(type(sentence_sentiments[0]))\n",
    "print(type(sentence_sentiments[0][0]))\n",
    "print(sentence_sentiments[0][0].input)\n",
    "print(sentence_sentiments[0][0].prediction)\n",
    "print(sentence_sentiments[0][0].confidence)\n",
    "print(sentence_sentiments)"
   ]
  },
  {
   "cell_type": "code",
   "execution_count": 34,
   "id": "68216989",
   "metadata": {},
   "outputs": [
    {
     "name": "stdout",
     "output_type": "stream",
     "text": [
      "the ftse 100 fell slightly in early trade on monday before bounding to a two - week high, alongside european stocks.\n",
      "negative\n",
      "0.7313715\n",
      "---\n",
      "\n",
      "meanwhile, the us market was mixed as caution sets in following a week of profit taking for big tech stocks like nvidia.\n",
      "negative\n",
      "0.5845276\n",
      "---\n",
      "\n",
      "us traders are looking to key inflation data later in the week.\n",
      "neutral\n",
      "0.99848074\n",
      "---\n",
      "\n",
      "the ftse 100 ( ^ ftse ) was down 0. 1 % after the opening bell before trading around 0. 7 % higher by mid - afternoon.\n",
      "negative\n",
      "0.80645573\n",
      "---\n",
      "\n",
      "the dax ( ^ gdaxi ) rose 1 % and the cac ( ^ fchi ) was up 1. 2 %.\n",
      "positive\n",
      "0.98682284\n",
      "---\n",
      "\n",
      "the pan - european stoxx 600 ( ^ stoxx ) was up 0. 5 %.\n",
      "positive\n",
      "0.9843911\n",
      "---\n",
      "\n",
      "across the pond, the s & p 500 ( ^ gspc ) was up 0. 3 %, having fallen earlier.\n",
      "positive\n",
      "0.99138343\n",
      "---\n",
      "\n",
      "the dow ( ^ dji ) was up 1 % and the nasdaq ( ^ ixic ) dipped 0. 2 %.\n",
      "positive\n",
      "0.6918388\n",
      "---\n",
      "\n",
      "traders in the us are looking to friday morning, which will bring investors the may reading on the personal consumption expenditures ( pce ) price index, the fed ' s preferred inflation measure, which should show prices on a \" core \" basis – which excludes food and energy – rose 0. 1 % last month.\n",
      "positive\n",
      "0.8570515\n",
      "---\n",
      "\n",
      "this would mark the slowest monthly rise since last november.\n",
      "negative\n",
      "0.98682064\n",
      "---\n",
      "\n",
      "new data from the uk on monday shows salaries for jobs advertised in the uk fell in may for the first time since october.\n",
      "negative\n",
      "0.99713564\n",
      "---\n",
      "\n",
      "adzuna ' s calculations reveal the average salary on an advertised vacancy is down 0. 1 % since last month, now standing at £38, 765.\n",
      "negative\n",
      "0.9873733\n",
      "---\n",
      "\n",
      "on an annual basis, salaries were 2. 69 % higher than in may 2023, following the rise in the national living wage to £11. 44 per hour at the start of april.\n",
      "positive\n",
      "0.9984046\n",
      "---\n",
      "\n",
      "wage inflation has been a sticking point for policymakers in the bank of england, as they grapple with when to lower interest rates.\n",
      "negative\n",
      "0.9483844\n",
      "---\n",
      "\n",
      "polling by ipsos for the french election showed over the weekend that france ' s far right national rally ( rn ) party and its allies are ahead, leading with with 35. 5 % of the vote.\n",
      "positive\n",
      "0.93774915\n",
      "---\n",
      "\n",
      "the first round of voting is set to take place on 30 june.\n",
      "neutral\n",
      "0.9990252\n",
      "---\n",
      "\n"
     ]
    }
   ],
   "source": [
    "for sentence in sentence_sentiments:\n",
    "    print(sentence.input)\n",
    "    print(sentence.prediction)\n",
    "    print(sentence.confidence)\n",
    "    print(\"---\\n\")"
   ]
  },
  {
   "cell_type": "code",
   "execution_count": 49,
   "id": "91f7d52b",
   "metadata": {},
   "outputs": [
    {
     "name": "stdout",
     "output_type": "stream",
     "text": [
      "The analysis results are as follows: 43.75% positive, 12.5% neutral, 43.75% negative, with a total confidence of 0.4055726100000001%.\n"
     ]
    }
   ],
   "source": [
    "# Aggregation by percentage\n",
    "def aggregate_sentiments_percentage(sentiments):\n",
    "    total_sentences = len(sentiments)\n",
    "    pos_num = 0\n",
    "    neg_num = 0\n",
    "    neu_num = 0\n",
    "    pos_con = 0\n",
    "    neg_con = 0\n",
    "    neu_con = 0\n",
    "    othe = 0\n",
    "    for sentence in sentiments:\n",
    "        if sentence.prediction == \"positive\":\n",
    "            pos_num += 1\n",
    "            pos_con += sentence.confidence\n",
    "        elif sentence.prediction == \"neutral\":\n",
    "            neu_num += 1\n",
    "            neu_con += sentence.confidence\n",
    "        elif sentence.prediction == \"negative\":\n",
    "            neg_num += 1\n",
    "            neg_con += sentence.confidence\n",
    "        else:\n",
    "            other += 1\n",
    "\n",
    "    positive_percentage = (pos_num / total_sentences) * 100\n",
    "    neutral_percentage = (neu_num / total_sentences) * 100\n",
    "    negative_percentage = (neg_num / total_sentences) * 100\n",
    "    \n",
    "    confidence_num = pos_con - neg_con\n",
    "    \n",
    "    answer_sentence = (f\"The analysis results are as follows: {positive_percentage}% positive, \"\n",
    "            f\"{neutral_percentage}% neutral, {negative_percentage}% negative, \"\n",
    "            f\"with a total confidence of {confidence_num}%.\")\n",
    "    print(answer_sentence)\n",
    "\n",
    "    return {\n",
    "        'positive_percentage': positive_percentage,\n",
    "        'neutral_percentage': neutral_percentage,\n",
    "        'negative_percentage': negative_percentage,\n",
    "        'total with confidence': confidence_num\n",
    "    }\n",
    "\n",
    "# Calculate the percentage of each sentiment\n",
    "sentiment_percentages = aggregate_sentiments_percentage(sentence_sentiments)\n",
    "\n",
    "# print(f\"Sentence Sentiments: {sentence_sentiments}\")\n",
    "# print(f\"Sentiment Percentages: {sentiment_percentages}\")"
   ]
  },
  {
   "cell_type": "code",
   "execution_count": null,
   "id": "734736ee",
   "metadata": {},
   "outputs": [],
   "source": []
  },
  {
   "cell_type": "code",
   "execution_count": null,
   "id": "15b34a39",
   "metadata": {},
   "outputs": [],
   "source": []
  }
 ],
 "metadata": {
  "kernelspec": {
   "display_name": "Python (myenv-sentiment)",
   "language": "python",
   "name": "myenv"
  },
  "language_info": {
   "codemirror_mode": {
    "name": "ipython",
    "version": 3
   },
   "file_extension": ".py",
   "mimetype": "text/x-python",
   "name": "python",
   "nbconvert_exporter": "python",
   "pygments_lexer": "ipython3",
   "version": "3.11.4"
  }
 },
 "nbformat": 4,
 "nbformat_minor": 5
}
